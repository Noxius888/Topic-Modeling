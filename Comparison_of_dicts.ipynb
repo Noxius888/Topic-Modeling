{
 "cells": [
  {
   "cell_type": "code",
   "execution_count": 1,
   "metadata": {},
   "outputs": [],
   "source": [
    "#Load Data\n",
    "import gensim\n",
    "from gensim.models import CoherenceModel\n",
    "import pandas as pd\n",
    "import pickle\n",
    "with open('data_clean_token.pickle', 'rb') as handle:\n",
    "    dataset = pickle.load(handle)\n",
    "\n",
    "figures = \"/home/noxius/MEGA/MasterThesis/LaTeX/dokument-recognition-classification/Figures/\""
   ]
  },
  {
   "cell_type": "markdown",
   "metadata": {},
   "source": [
    "### Comparing different filtering levels of copora and dictionaries"
   ]
  },
  {
   "cell_type": "code",
   "execution_count": 2,
   "metadata": {},
   "outputs": [],
   "source": [
    "def create_corpora_dict(texts, num_corpora = 2, no_below_start=1, \n",
    "                        no_below_step = 1, keep_n = None,\n",
    "                        no_above_start = 0.9, no_above_step = 0.1):\n",
    "\n",
    "    from gensim.corpora import Dictionary\n",
    "        #Filtered Dictionary\n",
    "\n",
    "    dict_list = []\n",
    "    corpora_list = []\n",
    "\n",
    "\n",
    "    for corps in range(num_corpora):\n",
    "        dictionary = Dictionary(documents=texts, prune_at=None)\n",
    "        dictionary.filter_extremes(no_below=no_below_start, no_above= no_above_start)\n",
    "        dictionary.compactify()\n",
    "        corpus = [dictionary.doc2bow(doc) for doc in texts] \n",
    "        \n",
    "        dict_list.append(dictionary)\n",
    "        corpora_list.append(corpus)\n",
    "        no_below_start+= no_below_step\n",
    "        no_above_start-= no_above_step\n",
    "        print(\"Corpus \"+str(corps)+ \" has \" +str(len(dictionary))+\" token.\")\n",
    "\n",
    "    return dict_list, corpora_list"
   ]
  },
  {
   "cell_type": "code",
   "execution_count": 3,
   "metadata": {},
   "outputs": [
    {
     "name": "stdout",
     "output_type": "stream",
     "text": [
      "Corpus 0 has 27812 token.\n",
      "Corpus 1 has 15765 token.\n",
      "Corpus 2 has 11559 token.\n",
      "Corpus 3 has 9346 token.\n",
      "Corpus 4 has 7979 token.\n",
      "Corpus 5 has 7035 token.\n",
      "Corpus 6 has 6298 token.\n",
      "Corpus 7 has 5720 token.\n",
      "Corpus 8 has 5282 token.\n",
      "Corpus 9 has 4903 token.\n"
     ]
    }
   ],
   "source": [
    "dict_list, corpora = create_corpora_dict(texts=dataset, num_corpora=10, no_above_step=0.05)"
   ]
  },
  {
   "cell_type": "code",
   "execution_count": 18,
   "metadata": {},
   "outputs": [],
   "source": [
    "def compare_dicts(dict_list, corpus_list, texts):\n",
    "\n",
    "    passes= 30\n",
    "    iterations = 50\n",
    "    eval_every=0\n",
    "    workers = 7\n",
    "    num_topics = 8\n",
    "    \n",
    "    assert(len(dict_list) == len(corpus_list)), \"Dictionary and the corpus list should have the same length.\"\n",
    "   \n",
    "    model_list = []\n",
    "    for index in range(len(dict_list)):\n",
    "        model = gensim.models.LdaMulticore(corpus=corpus_list[index], num_topics=num_topics, \n",
    "                                           id2word=dict_list[index], workers=workers, passes=passes, \n",
    "                                           iterations=iterations, eval_every=eval_every)\n",
    "        model_list.append(model)\n",
    "        \n",
    "    return model_list"
   ]
  },
  {
   "cell_type": "code",
   "execution_count": 6,
   "metadata": {},
   "outputs": [],
   "source": [
    "# method for getting coherence scores both for models and topics\n",
    "def coherence_scores(model_list, corpus_list, dict_list, texts, coherence='c_v'):\n",
    "    \n",
    "    coherences_model = []\n",
    "    coherences_per_topic = []\n",
    "    for i in range(len(model_list)):\n",
    "        coh_model = CoherenceModel(model=model_list[i], texts=texts, coherence=coherence, corpus=corpus_list[i])\n",
    "        coherences_model.append(coh_model.get_coherence())\n",
    "        coherences_per_topic.append(coh_model.get_coherence_per_topic())\n",
    "    \n",
    "    return coherences_model, coherences_per_topic\n",
    "    "
   ]
  },
  {
   "cell_type": "code",
   "execution_count": 8,
   "metadata": {},
   "outputs": [],
   "source": [
    "#Differently cleaned dictionaries and corpora compared with c_v and umass\n",
    "models = compare_dicts(corpus_list=corpora, dict_list=dict_list, \n",
    "                       texts=dataset)"
   ]
  },
  {
   "cell_type": "code",
   "execution_count": 19,
   "metadata": {},
   "outputs": [],
   "source": [
    "models2 = compare_dicts(corpus_list=corpora, dict_list=dict_list, \n",
    "                       texts=dataset)"
   ]
  },
  {
   "cell_type": "code",
   "execution_count": 9,
   "metadata": {},
   "outputs": [],
   "source": [
    "cv_score_models, cv_score_per_topic = coherence_scores(model_list=models, corpus_list=corpora, \n",
    "                                                       dict_list=dict_list, texts=dataset, \n",
    "                                                       coherence='c_v')\n",
    "\n",
    "umass_score_models, umass_score_per_topic = coherence_scores(model_list=models, corpus_list=corpora, \n",
    "                                                             dict_list=dict_list, texts=dataset, \n",
    "                                                             coherence = 'u_mass')"
   ]
  },
  {
   "cell_type": "code",
   "execution_count": 10,
   "metadata": {},
   "outputs": [],
   "source": [
    "cuci_score_models, cuci_score_per_topic = coherence_scores(model_list=models, corpus_list=corpora, \n",
    "                                                             dict_list=dict_list, texts=dataset, \n",
    "                                                             coherence = 'c_uci')\n",
    "\n",
    "cnpmi_score_models, cnpmi_score_per_topic = coherence_scores(model_list=models, corpus_list=corpora, \n",
    "                                                             dict_list=dict_list, texts=dataset, \n",
    "                                                             coherence = 'c_npmi')"
   ]
  },
  {
   "cell_type": "code",
   "execution_count": 22,
   "metadata": {},
   "outputs": [],
   "source": [
    "cv_score_models2, cv_score_per_topic2 = coherence_scores(model_list=models2, corpus_list=corpora, \n",
    "                                                       dict_list=dict_list, texts=dataset, \n",
    "                                                       coherence='c_v')\n",
    "\n",
    "umass_score_models2, umass_score_per_topic2 = coherence_scores(model_list=models2, corpus_list=corpora, \n",
    "                                                             dict_list=dict_list, texts=dataset, \n",
    "                                                             coherence = 'u_mass')\n",
    "\n",
    "cuci_score_models2, cuci_score_per_topic2 = coherence_scores(model_list=models2, corpus_list=corpora, \n",
    "                                                             dict_list=dict_list, texts=dataset, \n",
    "                                                             coherence = 'c_uci')\n",
    "\n",
    "cnpmi_score_models2, cnpmi_score_per_topic2 = coherence_scores(model_list=models2, corpus_list=corpora, \n",
    "                                                             dict_list=dict_list, texts=dataset, \n",
    "                                                             coherence = 'c_npmi')"
   ]
  },
  {
   "cell_type": "markdown",
   "metadata": {},
   "source": [
    "### Compare models with different topic numbers"
   ]
  },
  {
   "cell_type": "code",
   "execution_count": 11,
   "metadata": {},
   "outputs": [],
   "source": [
    "def compare_topic_numbers(dictionary, corpus, texts, limit=16, start=2, step=1):\n",
    "\n",
    "    passes=20\n",
    "    iterations = 200\n",
    "    eval_every=1\n",
    "    per_word_topics = False\n",
    "    workers = 3\n",
    "    \n",
    "    model_list = []\n",
    "    for num_topics in range(start, limit, step):\n",
    "        model = gensim.models.LdaMulticore(corpus=corpus, num_topics=num_topics, id2word=dictionary, \n",
    "                                           workers=workers, passes=passes, iterations=iterations, \n",
    "                                           eval_every=eval_every)\n",
    "        model_list.append(model)\n",
    "\n",
    "    return model_list"
   ]
  },
  {
   "cell_type": "markdown",
   "metadata": {},
   "source": [
    "### Making pgf for LaTeX work"
   ]
  },
  {
   "cell_type": "code",
   "execution_count": 12,
   "metadata": {},
   "outputs": [],
   "source": [
    "#Setting the PATH variable right for LaTeX \n",
    "import os\n",
    "os.environ[\"PATH\"] += os.pathsep + '/usr/local/texlive/2018/bin/x86_64-linux/'\n"
   ]
  },
  {
   "cell_type": "code",
   "execution_count": 13,
   "metadata": {},
   "outputs": [],
   "source": [
    "#using the pdf module so pyplot figures can be displayed in LaTeX\n",
    "\n",
    "from __future__ import (absolute_import, division, print_function,\n",
    "                        unicode_literals)\n",
    "\n",
    "import six\n",
    "\n",
    "import matplotlib as mpl\n",
    "mpl.use(\"pgf\", warn=False)\n",
    "pgf_with_custom_preamble = {\n",
    "    \"font.family\": \"serif\", # use serif/main font for text elements\n",
    "    \"pgf.texsystem\": \"xelatex\",\n",
    "    \"text.usetex\": True,    # use inline math for ticks\n",
    "    \"pgf.rcfonts\": False,   # don't setup fonts from rc parameters\n",
    "    \"pgf.preamble\": [\n",
    "         \"\\\\usepackage{units}\",         # load additional packages\n",
    "         \"\\\\usepackage{metalogo}\",\n",
    "         \"\\\\usepackage{unicode-math}\",  # unicode math setup\n",
    "         #r\"\\setmathfont{xits-math.otf}\",\n",
    "         #r\"\\setmainfont{DejaVu Serif}\", # serif font via preamble\n",
    "         ]\n",
    "}\n",
    "mpl.rcParams.update(pgf_with_custom_preamble)\n"
   ]
  },
  {
   "cell_type": "code",
   "execution_count": 35,
   "metadata": {},
   "outputs": [
    {
     "data": {
      "image/png": "[encoded data removed]",
      "text/plain": [
       "<Figure size 432x288 with 1 Axes>"
      ]
     },
     "metadata": {
      "needs_background": "light"
     },
     "output_type": "display_data"
    }
   ],
   "source": [
    "# \n",
    "%matplotlib inline\n",
    "import matplotlib.pyplot as plt\n",
    "limit=11; start=1; step=1;\n",
    "x = range(start, limit, step)\n",
    "#plt.plot(x, cv_score_models, label=\"$C_V$-Score of the models\")\n",
    "plt.plot(x, cv_score_models, label=\"$C_{V}$-Score of the models\")\n",
    "#plt.plot(x, cv_score_models2, label=\"$C_{V}$-Scores on model2\")\n",
    "plt.xlabel(\"Dictionary/Model Number\")\n",
    "plt.ylabel(\"Coherence score\")\n",
    "plt.legend(bbox_to_anchor=(0., 1.02, 1., .102), loc='best',\n",
    "           ncol=2, mode=\"expand\", borderaxespad=0.)\n",
    "\n",
    "plt.savefig('/home/noxius/MEGA/MasterThesis/LaTeX/dokument-recognition-classification/Figures/dict_models_cv.pgf')\n",
    "#plt.savefig('/home/noxius/MEGA/MasterThesis/LaTeX/dokument-recognition-classification/Figures/dict_models_umass.pgf')\n",
    "\n",
    "plt.show()"
   ]
  },
  {
   "cell_type": "code",
   "execution_count": 36,
   "metadata": {},
   "outputs": [
    {
     "data": {
      "image/png": "[encoded data removed]",
      "text/plain": [
       "<Figure size 432x288 with 1 Axes>"
      ]
     },
     "metadata": {
      "needs_background": "light"
     },
     "output_type": "display_data"
    }
   ],
   "source": [
    "# \n",
    "%matplotlib inline\n",
    "import matplotlib.pyplot as plt\n",
    "limit=11; start=1; step=1;\n",
    "x = range(start, limit, step)\n",
    "#plt.plot(x, cv_score_models, label=\"$C_V$-Score of the models\")\n",
    "#plt.plot(x, cuci_score_models, label=\"$C_{UCI}$-Score\")\n",
    "plt.plot(x, umass_score_models, label=\"$C_{UMass}$-Scores of the models\")\n",
    "#plt.plot(x, umass_score_models2, label=\"$C_{UMass}$-Scores on Model2\")\n",
    "\n",
    "#plt.plot(x, cnpmi_score_models, label=\"$C_{NPMI}$-Score\")\n",
    "plt.xlabel(\"Dictionary/Model Number\")\n",
    "plt.ylabel(\"Coherence score\")\n",
    "plt.legend(bbox_to_anchor=(0., 1.02, 1., .102), loc='best',\n",
    "           ncol=2, mode=\"expand\", borderaxespad=0.)\n",
    "\n",
    "#plt.savefig('/home/noxius/MEGA/MasterThesis/LaTeX/dokument-recognition-classification/Figures/dict_models_cv.pgf')\n",
    "#plt.savefig('/home/noxius/MEGA/MasterThesis/LaTeX/dokument-recognition-classification/Figures/dict_models_umass.pgf')\n",
    "\n",
    "plt.show()"
   ]
  },
  {
   "cell_type": "code",
   "execution_count": 16,
   "metadata": {
    "collapsed": true
   },
   "outputs": [
    {
     "data": {
      "image/png": "[encoded data removed]",
      "text/plain": [
       "<Figure size 432x288 with 1 Axes>"
      ]
     },
     "metadata": {
      "needs_background": "light"
     },
     "output_type": "display_data"
    }
   ],
   "source": [
    "# \n",
    "%matplotlib inline\n",
    "import matplotlib.pyplot as plt\n",
    "limit=11; start=1; step=1;\n",
    "x = range(start, limit, step)\n",
    "#plt.plot(x, cv_score_models, label=\"$C_V$-Score of the models\")\n",
    "plt.plot(x, cuci_score_models, label=\"$C_{UCI}$-Score of the models\")\n",
    "plt.xlabel(\"Dictionary/Model Number\")\n",
    "plt.ylabel(\"Coherence score\")\n",
    "plt.legend(bbox_to_anchor=(0., 1.02, 1., .102), loc='best',\n",
    "           ncol=2, mode=\"expand\", borderaxespad=0.)\n",
    "\n",
    "#plt.savefig('/home/noxius/MEGA/MasterThesis/LaTeX/dokument-recognition-classification/Figures/dict_models_cv.pgf')\n",
    "#plt.savefig('/home/noxius/MEGA/MasterThesis/LaTeX/dokument-recognition-classification/Figures/dict_models_umass.pgf')\n",
    "\n",
    "plt.show()"
   ]
  },
  {
   "cell_type": "code",
   "execution_count": 40,
   "metadata": {},
   "outputs": [
    {
     "data": {
      "image/png": "[encoded data removed]",
      "text/plain": [
       "<Figure size 432x288 with 1 Axes>"
      ]
     },
     "metadata": {
      "needs_background": "light"
     },
     "output_type": "display_data"
    }
   ],
   "source": [
    "# \n",
    "%matplotlib inline\n",
    "import matplotlib.pyplot as plt\n",
    "limit=11; start=1; step=1;\n",
    "x = range(start, limit, step)\n",
    "#plt.plot(x, cv_score_models, label=\"$C_V$-Score of the models\")\n",
    "plt.plot(x, cnpmi_score_models, label=\"$C_{NPMI}$-Scores of the models\")\n",
    "#plt.plot(x, cnpmi_score_models2, label=\"$C_{NPMI}$-Scores on Model2\")\n",
    "\n",
    "plt.xlabel(\"Dictionary/Model Number\")\n",
    "plt.ylabel(\"Coherence score\")\n",
    "plt.legend(bbox_to_anchor=(0., 1.02, 1., .102), loc='best',\n",
    "           ncol=2, mode=\"expand\", borderaxespad=0.)\n",
    "\n",
    "#plt.savefig('/home/noxius/MEGA/MasterThesis/LaTeX/dokument-recognition-classification/Figures/dict_models_cv.pgf')\n",
    "#plt.savefig('/home/noxius/MEGA/MasterThesis/LaTeX/dokument-recognition-classification/Figures/dict_models_umass.pgf')\n",
    "plt.savefig('/home/noxius/MEGA/MasterThesis/LaTeX/dokument-recognition-classification/Figures/dict_models_npmi.pgf')\n",
    "\n",
    "plt.show()"
   ]
  },
  {
   "cell_type": "code",
   "execution_count": 90,
   "metadata": {},
   "outputs": [
    {
     "data": {
      "image/png": "[encoded data removed]",
      "text/plain": [
       "<Figure size 432x288 with 1 Axes>"
      ]
     },
     "metadata": {
      "needs_background": "light"
     },
     "output_type": "display_data"
    }
   ],
   "source": [
    "# Show graph with the scores\n",
    "%matplotlib inline\n",
    "import matplotlib.pyplot as plt\n",
    "limit=9; start=1; step=1;\n",
    "x = range(start, limit, step)\n",
    "#plt.figure(figsize=(3,2))\n",
    "#plt.plot(x, cv1_topic_scores, label= \"without extremes\")\n",
    "#plt.plot(x, cv2_topic_scores, label= \"with extremes\")\n",
    "#plt.plot(x, cv_score_per_topic[0], label= \"Model 1\")\n",
    "plt.plot(x, cv_score_per_topic[1], label= \"Model 2\")\n",
    "#plt.plot(x, umass_score_per_topic[1], label= \"Model 2\")\n",
    "\n",
    "#plt.plot(x, cv_score_per_topic[2], label= \"Model 3\")\n",
    "#plt.plot(x, cv_score_per_topic[3], label= \"Model 4\")\n",
    "#plt.plot(x, cv_score_per_topic[4], label= \"Model 5\")\n",
    "#plt.plot(x, cv_score_per_topic[5], label= \"Model 6\")\n",
    "#plt.plot(x, cv_score_per_topic[6], label= \"Model 7\")\n",
    "#plt.plot(x, cv_score_per_topic[7], label= \"Model 8\")\n",
    "#plt.plot(x, umass_score_per_topic[8], label= \"Model 9\")\n",
    "#plt.plot(x, umass_score_per_topic[9], label= \"Model 10\")\n",
    "plt.plot(x, cv_score_per_topic[8], label= \"Model 9\")\n",
    "plt.plot(x, cv_score_per_topic[9], label= \"Model 10\")\n",
    "\n",
    "plt.xlabel(\"Topic id\")\n",
    "plt.ylabel(\"$C_{V}$ coherence\")\n",
    "#plt.legend(bbox_to_anchor=(0., 1.02, 1., .102), loc=3,\n",
    "#           ncol=2, mode=\"expand\", borderaxespad=0.)\n",
    "plt.legend(loc='upper center', bbox_to_anchor=(0.5, -0.05), shadow=True, ncol=2)\n",
    "\n",
    "#plt.savefig('/home/noxius/MEGA/MasterThesis/LaTeX/dokument-recognition-classification/Figures/test3.pgf')\n",
    "plt.show()"
   ]
  },
  {
   "cell_type": "code",
   "execution_count": 23,
   "metadata": {
    "scrolled": true
   },
   "outputs": [
    {
     "ename": "NameError",
     "evalue": "name 'plt' is not defined",
     "output_type": "error",
     "traceback": [
      "\u001b[0;31m---------------------------------------------------------------------------\u001b[0m",
      "\u001b[0;31mNameError\u001b[0m                                 Traceback (most recent call last)",
      "\u001b[0;32m<ipython-input-23-d68518e66ee0>\u001b[0m in \u001b[0;36m<module>\u001b[0;34m()\u001b[0m\n\u001b[1;32m      2\u001b[0m \u001b[0mlimit\u001b[0m\u001b[0;34m=\u001b[0m\u001b[0;36m9\u001b[0m\u001b[0;34m;\u001b[0m \u001b[0mstart\u001b[0m\u001b[0;34m=\u001b[0m\u001b[0;36m1\u001b[0m\u001b[0;34m;\u001b[0m \u001b[0mstep\u001b[0m\u001b[0;34m=\u001b[0m\u001b[0;36m1\u001b[0m\u001b[0;34m;\u001b[0m\u001b[0;34m\u001b[0m\u001b[0m\n\u001b[1;32m      3\u001b[0m \u001b[0mx\u001b[0m \u001b[0;34m=\u001b[0m \u001b[0mrange\u001b[0m\u001b[0;34m(\u001b[0m\u001b[0mstart\u001b[0m\u001b[0;34m,\u001b[0m \u001b[0mlimit\u001b[0m\u001b[0;34m,\u001b[0m \u001b[0mstep\u001b[0m\u001b[0;34m)\u001b[0m\u001b[0;34m\u001b[0m\u001b[0m\n\u001b[0;32m----> 4\u001b[0;31m \u001b[0mplt\u001b[0m\u001b[0;34m.\u001b[0m\u001b[0mfigure\u001b[0m\u001b[0;34m(\u001b[0m\u001b[0mfigsize\u001b[0m\u001b[0;34m=\u001b[0m\u001b[0;34m(\u001b[0m\u001b[0;36m5\u001b[0m\u001b[0;34m,\u001b[0m \u001b[0;36m3\u001b[0m\u001b[0;34m)\u001b[0m\u001b[0;34m)\u001b[0m\u001b[0;34m\u001b[0m\u001b[0m\n\u001b[0m\u001b[1;32m      5\u001b[0m \u001b[0mplt\u001b[0m\u001b[0;34m.\u001b[0m\u001b[0mplot\u001b[0m\u001b[0;34m(\u001b[0m\u001b[0mx\u001b[0m\u001b[0;34m,\u001b[0m \u001b[0mumass1_topic_scores\u001b[0m\u001b[0;34m,\u001b[0m \u001b[0mumass2_topic_scores\u001b[0m\u001b[0;34m)\u001b[0m\u001b[0;34m\u001b[0m\u001b[0m\n\u001b[1;32m      6\u001b[0m \u001b[0;34m\u001b[0m\u001b[0m\n",
      "\u001b[0;31mNameError\u001b[0m: name 'plt' is not defined"
     ]
    }
   ],
   "source": [
    "#Umass\n",
    "limit=9; start=1; step=1;\n",
    "x = range(start, limit, step)\n",
    "plt.figure(figsize=(5, 3))\n",
    "plt.plot(x, umass1_topic_scores, umass2_topic_scores)\n",
    "\n",
    "plt.xlabel(\"Topic number\")\n",
    "plt.ylabel(\"Coherence score\")\n",
    "plt.legend((\"coherence_values\"), loc='best')\n",
    "plt.savefig('/home/noxius/MEGA/MasterThesis/LaTeX/dokument-recognition-classification/Figures/example1.pgf')"
   ]
  },
  {
   "cell_type": "code",
   "execution_count": 27,
   "metadata": {},
   "outputs": [],
   "source": [
    "def topics_to_columns(lda_model, num_words = 5, column_as_topic = True, to_csv = False, path=None):\n",
    "    topics = lda_model.show_topics(num_words=num_words, formatted=False)\n",
    "    tops = {}\n",
    "    new = []\n",
    "    topic = []\n",
    "    columns=[]\n",
    "    for t in range(0,lda_model.num_topics):\n",
    "        for w in range(len(topics[1][1])):\n",
    "            topic.append(topics[t][1][w][0])\n",
    "        tops[t] = topic\n",
    "        topic = []\n",
    "\n",
    "    columns=['term'+str(t) for t in range(len(topics[1][1]))]    \n",
    "    index= ['topic'+str(t) for t in range(lda_model.num_topics)]  \n",
    "\n",
    "    \n",
    "    import pandas as pd\n",
    "    data = pd.DataFrame.from_dict(data=tops, orient='index', columns=columns)\n",
    "    data.index = index\n",
    "    if column_as_topic == True:\n",
    "        data = data.transpose()\n",
    "        data.columns = ['topic'+str(t) for t in range(lda_model.num_topics)]\n",
    "    if to_csv == True and path != None:\n",
    "        if column_as_topic == False:\n",
    "            data.to_csv(index_label=\"topic_id\", path_or_buf=path+\".csv\")\n",
    "        else:\n",
    "            data.to_csv(index_label=\"words\", path_or_buf=path+\".csv\")\n",
    "    return data\n",
    "    \n",
    "   "
   ]
  },
  {
   "cell_type": "code",
   "execution_count": 28,
   "metadata": {},
   "outputs": [
    {
     "data": {
      "text/html": [
       "<div>\n",
       "<style scoped>\n",
       "    .dataframe tbody tr th:only-of-type {\n",
       "        vertical-align: middle;\n",
       "    }\n",
       "\n",
       "    .dataframe tbody tr th {\n",
       "        vertical-align: top;\n",
       "    }\n",
       "\n",
       "    .dataframe thead th {\n",
       "        text-align: right;\n",
       "    }\n",
       "</style>\n",
       "<table border=\"1\" class=\"dataframe\">\n",
       "  <thead>\n",
       "    <tr style=\"text-align: right;\">\n",
       "      <th></th>\n",
       "      <th>topic0</th>\n",
       "      <th>topic1</th>\n",
       "      <th>topic2</th>\n",
       "      <th>topic3</th>\n",
       "      <th>topic4</th>\n",
       "      <th>topic5</th>\n",
       "      <th>topic6</th>\n",
       "      <th>topic7</th>\n",
       "    </tr>\n",
       "  </thead>\n",
       "  <tbody>\n",
       "    <tr>\n",
       "      <th>term0</th>\n",
       "      <td>versichern</td>\n",
       "      <td>name</td>\n",
       "      <td>vodafone</td>\n",
       "      <td>verarbeitung</td>\n",
       "      <td>sparkasse</td>\n",
       "      <td>coupon</td>\n",
       "      <td>postfach</td>\n",
       "      <td>mieter</td>\n",
       "    </tr>\n",
       "    <tr>\n",
       "      <th>term1</th>\n",
       "      <td>versicherung</td>\n",
       "      <td>konto</td>\n",
       "      <td>netz</td>\n",
       "      <td>gemäß</td>\n",
       "      <td>kontoauszug</td>\n",
       "      <td>online</td>\n",
       "      <td>nutzer</td>\n",
       "      <td>arbeitgeber</td>\n",
       "    </tr>\n",
       "    <tr>\n",
       "      <th>term2</th>\n",
       "      <td>leistungen</td>\n",
       "      <td>stellen</td>\n",
       "      <td>kunden</td>\n",
       "      <td>personenbezogenen</td>\n",
       "      <td>einwendungen</td>\n",
       "      <td>karte</td>\n",
       "      <td>anteil</td>\n",
       "      <td>verpflichten</td>\n",
       "    </tr>\n",
       "    <tr>\n",
       "      <th>term3</th>\n",
       "      <td>gelten</td>\n",
       "      <td>zahlung</td>\n",
       "      <td>internet</td>\n",
       "      <td>verarbeiten</td>\n",
       "      <td>kontostand</td>\n",
       "      <td>nutzen</td>\n",
       "      <td>techem</td>\n",
       "      <td>vermieter</td>\n",
       "    </tr>\n",
       "    <tr>\n",
       "      <th>term4</th>\n",
       "      <td>versicherungsschutz</td>\n",
       "      <td>inkasso</td>\n",
       "      <td>spanien</td>\n",
       "      <td>erforderlich</td>\n",
       "      <td>schecks</td>\n",
       "      <td>original</td>\n",
       "      <td>rechnung</td>\n",
       "      <td>arbeitnehmer</td>\n",
       "    </tr>\n",
       "    <tr>\n",
       "      <th>term5</th>\n",
       "      <td>vertrag</td>\n",
       "      <td>forderung</td>\n",
       "      <td>kunde</td>\n",
       "      <td>datenschutz</td>\n",
       "      <td>lastschriften</td>\n",
       "      <td>einkauf</td>\n",
       "      <td>betriebskosten</td>\n",
       "      <td>schriftlich</td>\n",
       "    </tr>\n",
       "    <tr>\n",
       "      <th>term6</th>\n",
       "      <td>beitrag</td>\n",
       "      <td>angaben</td>\n",
       "      <td>deutschland</td>\n",
       "      <td>verantwortlich</td>\n",
       "      <td>buchungen</td>\n",
       "      <td>gelten</td>\n",
       "      <td>gesamtkosten</td>\n",
       "      <td>folgend</td>\n",
       "    </tr>\n",
       "    <tr>\n",
       "      <th>term7</th>\n",
       "      <td>beiträge</td>\n",
       "      <td>firma</td>\n",
       "      <td>rechnung</td>\n",
       "      <td>stellen</td>\n",
       "      <td>entnehmen</td>\n",
       "      <td>punkte</td>\n",
       "      <td>summe</td>\n",
       "      <td>seiten</td>\n",
       "    </tr>\n",
       "    <tr>\n",
       "      <th>term8</th>\n",
       "      <td>zahlen</td>\n",
       "      <td>kontoinhaber</td>\n",
       "      <td>vertrag</td>\n",
       "      <td>betroffen</td>\n",
       "      <td>zinsen</td>\n",
       "      <td>service</td>\n",
       "      <td>samen</td>\n",
       "      <td>unterschrift</td>\n",
       "    </tr>\n",
       "    <tr>\n",
       "      <th>term9</th>\n",
       "      <td>absatz</td>\n",
       "      <td>sitzen</td>\n",
       "      <td>spätestens</td>\n",
       "      <td>speichern</td>\n",
       "      <td>geschäftsbedingungen</td>\n",
       "      <td>digital</td>\n",
       "      <td>verwaltung</td>\n",
       "      <td>anlage</td>\n",
       "    </tr>\n",
       "  </tbody>\n",
       "</table>\n",
       "</div>"
      ],
      "text/plain": [
       "                    topic0        topic1       topic2             topic3  \\\n",
       "term0           versichern          name     vodafone       verarbeitung   \n",
       "term1         versicherung         konto         netz              gemäß   \n",
       "term2           leistungen       stellen       kunden  personenbezogenen   \n",
       "term3               gelten       zahlung     internet        verarbeiten   \n",
       "term4  versicherungsschutz       inkasso      spanien       erforderlich   \n",
       "term5              vertrag     forderung        kunde        datenschutz   \n",
       "term6              beitrag       angaben  deutschland     verantwortlich   \n",
       "term7             beiträge         firma     rechnung            stellen   \n",
       "term8               zahlen  kontoinhaber      vertrag          betroffen   \n",
       "term9               absatz        sitzen   spätestens          speichern   \n",
       "\n",
       "                     topic4    topic5          topic6        topic7  \n",
       "term0             sparkasse    coupon        postfach        mieter  \n",
       "term1           kontoauszug    online          nutzer   arbeitgeber  \n",
       "term2          einwendungen     karte          anteil  verpflichten  \n",
       "term3            kontostand    nutzen          techem     vermieter  \n",
       "term4               schecks  original        rechnung  arbeitnehmer  \n",
       "term5         lastschriften   einkauf  betriebskosten   schriftlich  \n",
       "term6             buchungen    gelten    gesamtkosten       folgend  \n",
       "term7             entnehmen    punkte           summe        seiten  \n",
       "term8                zinsen   service           samen  unterschrift  \n",
       "term9  geschäftsbedingungen   digital      verwaltung        anlage  "
      ]
     },
     "execution_count": 28,
     "metadata": {},
     "output_type": "execute_result"
    }
   ],
   "source": [
    "topics_to_columns(models[8], num_words=10, to_csv=False, path=figures+'test.csv')"
   ]
  },
  {
   "cell_type": "markdown",
   "metadata": {},
   "source": [
    "### PyLDAvis"
   ]
  },
  {
   "cell_type": "code",
   "execution_count": 44,
   "metadata": {
    "collapsed": true
   },
   "outputs": [
    {
     "name": "stdout",
     "output_type": "stream",
     "text": [
      "CPU times: user 2 µs, sys: 1e+03 ns, total: 3 µs\n",
      "Wall time: 7.63 µs\n"
     ]
    },
    {
     "name": "stderr",
     "output_type": "stream",
     "text": [
      "/home/noxius/anaconda3/lib/python3.7/site-packages/pyLDAvis/_prepare.py:257: FutureWarning:\n",
      "\n",
      "Sorting because non-concatenation axis is not aligned. A future version\n",
      "of pandas will change to not sort by default.\n",
      "\n",
      "To accept the future behavior, pass 'sort=False'.\n",
      "\n",
      "To retain the current behavior and silence the warning, pass 'sort=True'.\n",
      "\n",
      "\n"
     ]
    }
   ],
   "source": [
    "%time\n",
    "\n",
    "import pyLDAvis\n",
    "import pyLDAvis.gensim \n",
    "import matplotlib.pyplot as plt\n",
    "import matplotlib\n",
    "%matplotlib inline\n",
    "\n",
    "\n",
    "pyLDAvis.enable_notebook()\n",
    "\n",
    "vis1 = pyLDAvis.gensim.prepare(lda_no_extremes, d2b_dataset2, dictionary2)\n",
    "vis2 = pyLDAvis.gensim.prepare(lda_extremes, d2b_dataset2, dictionary2)"
   ]
  },
  {
   "cell_type": "code",
   "execution_count": null,
   "metadata": {},
   "outputs": [],
   "source": [
    "model_list, coherence_values = compute_coherence_values(dictionary=dictionary, \n",
    "                                                        corpus=d2b_dataset,\n",
    "                                                        texts=data, start=2, \n",
    "                                                        limit=16, step=1)"
   ]
  },
  {
   "cell_type": "code",
   "execution_count": 111,
   "metadata": {},
   "outputs": [
    {
     "name": "stdout",
     "output_type": "stream",
     "text": [
      "CPU times: user 33.4 s, sys: 4.64 s, total: 38 s\n",
      "Wall time: 43.3 s\n"
     ]
    }
   ],
   "source": [
    "%%time\n",
    "import pyLDAvis \n",
    "import multiprocessing \n",
    "from gensim.models import LdaMulticore\n",
    "\n",
    "num_topics = 8\n",
    "passes = 6\n",
    "batch = True\n",
    "alpha = 'symmetric' \n",
    "eta = None # 'auto' \n",
    "eval_every = None\n",
    "\n",
    "\n",
    "lda_no_extremes = LdaMulticore(\n",
    "    corpus=d2b_dataset, num_topics=num_topics, id2word=dictionary,\n",
    "    workers=None, eval_every=None, passes=10, batch=True\n",
    ")\n",
    "\n",
    "\n",
    "lda_extremes = LdaMulticore(\n",
    "    corpus=d2b_dataset2, num_topics=num_topics, id2word=dictionary2,\n",
    "    workers=None, eval_every=None, passes=10, batch=True\n",
    ")\n",
    "\n",
    "\n",
    "\"\"\"\n",
    "lda_symmetric = LdaMulticore(\n",
    "    corpus=d2b_dataset2, num_topics=num_topics, id2word=dictionary2,\n",
    "    workers=None, eval_every=None, passes=10, batch=True, alpha='symmetric'\n",
    ")\n",
    "lda_asymmetric = LdaMulticore(\n",
    "    corpus=d2b_dataset2, num_topics=num_topics, id2word=dictionary2,\n",
    "    workers=None, eval_every=None, passes=10, batch=True, alpha='asymmetric'\n",
    ")\n",
    "\"\"\"\n",
    "\n",
    "#Coherence model\n",
    "cv1 = CoherenceModel(texts = dataset, model=lda_no_extremes, corpus=d2b_dataset, dictionary=dictionary, coherence='c_v')\n",
    "cv2 = CoherenceModel(texts = dataset, model=lda_extremes, corpus=d2b_dataset2, dictionary=dictionary2, coherence='c_v')\n",
    "umass1 = CoherenceModel(model=lda_no_extremes, corpus=d2b_dataset, dictionary=dictionary, coherence='u_mass')\n",
    "umass2 = CoherenceModel(model=lda_extremes, corpus=d2b_dataset2, dictionary=dictionary2, coherence='u_mass')\n",
    "\n",
    "#Scores by models\n",
    "cv1_model_score = cv1.get_coherence()\n",
    "cv2_model_score = cv2.get_coherence()\n",
    "umass1_model_scores = umass1.get_coherence()\n",
    "umass2_model_scores = umass2.get_coherence()\n",
    "\n",
    "#Scores by topics\n",
    "cv1_topic_scores = cv1.get_coherence_per_topic()\n",
    "cv2_topic_scores = cv2.get_coherence_per_topic()\n",
    "umass1_topic_scores = umass1.get_coherence_per_topic()\n",
    "umass2_topic_scores = umass2.get_coherence_per_topic()\n"
   ]
  }
 ],
 "metadata": {
  "kernelspec": {
   "display_name": "Python 3",
   "language": "python",
   "name": "python3"
  },
  "language_info": {
   "codemirror_mode": {
    "name": "ipython",
    "version": 3
   },
   "file_extension": ".py",
   "mimetype": "text/x-python",
   "name": "python",
   "nbconvert_exporter": "python",
   "pygments_lexer": "ipython3",
   "version": "3.7.0"
  }
 },
 "nbformat": 4,
 "nbformat_minor": 2
}
